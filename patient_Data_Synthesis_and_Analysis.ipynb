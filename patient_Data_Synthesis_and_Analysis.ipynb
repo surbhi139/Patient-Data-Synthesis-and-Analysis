{
  "nbformat": 4,
  "nbformat_minor": 0,
  "metadata": {
    "colab": {
      "provenance": []
    },
    "kernelspec": {
      "name": "python3",
      "display_name": "Python 3"
    },
    "language_info": {
      "name": "python"
    }
  },
  "cells": [
    {
      "cell_type": "code",
      "execution_count": null,
      "metadata": {
        "colab": {
          "base_uri": "https://localhost:8080/"
        },
        "id": "4QGB-JMvSJSS",
        "outputId": "7de86f46-5200-4042-e5df-78c1cb08e7ff"
      },
      "outputs": [
        {
          "output_type": "stream",
          "name": "stdout",
          "text": [
            "[4, 0, 0, 2]\n"
          ]
        }
      ],
      "source": [
        "list = [4, 13, 0, 9, 0, 1, 2, 34]\n",
        "number = list[::2]\n",
        "print(number)"
      ]
    },
    {
      "cell_type": "code",
      "source": [
        "list1 = [4, 13, 0, 9, 'a', 1, 2, 34]\n",
        "for num in list1:\n",
        "  if isinstance(num, (int, float)) and num !=0:\n",
        "    print(f\"1/{num}\")\n",
        "  else:\n",
        "    print(f\"not possible {num}\")"
      ],
      "metadata": {
        "colab": {
          "base_uri": "https://localhost:8080/"
        },
        "id": "juu_bL7ATB4U",
        "outputId": "dec9a9a9-9bcd-41b8-fb22-8fcbbfe4f411"
      },
      "execution_count": null,
      "outputs": [
        {
          "output_type": "stream",
          "name": "stdout",
          "text": [
            "1/4\n",
            "1/13\n",
            "not possible 0\n",
            "1/9\n",
            "not possible a\n",
            "1/1\n",
            "1/2\n",
            "1/34\n"
          ]
        }
      ]
    },
    {
      "cell_type": "code",
      "source": [
        "number = [4, 13, 0, 9, 0, 1, 2, 34]\n",
        "for i in range(len(number)):\n",
        "  for j in range(0, len(number)-i-1):\n",
        "    if (type(number[j] == int or type[number[j]] == float) and (type(number[j+1] == int or type[number[j+1]] == float))):\n",
        "      if number[j] > number[j+1]:\n",
        "       number[j],number[j+1] = number[j+1], number[j]\n",
        "       print(number)\n"
      ],
      "metadata": {
        "colab": {
          "base_uri": "https://localhost:8080/"
        },
        "id": "m4ucqHMnUiER",
        "outputId": "2d5a0ea6-3794-4ca6-e768-2c107ec4bba6"
      },
      "execution_count": null,
      "outputs": [
        {
          "output_type": "stream",
          "name": "stdout",
          "text": [
            "[4, 0, 13, 9, 0, 1, 2, 34]\n",
            "[4, 0, 9, 13, 0, 1, 2, 34]\n",
            "[4, 0, 9, 0, 13, 1, 2, 34]\n",
            "[4, 0, 9, 0, 1, 13, 2, 34]\n",
            "[4, 0, 9, 0, 1, 2, 13, 34]\n",
            "[0, 4, 9, 0, 1, 2, 13, 34]\n",
            "[0, 4, 0, 9, 1, 2, 13, 34]\n",
            "[0, 4, 0, 1, 9, 2, 13, 34]\n",
            "[0, 4, 0, 1, 2, 9, 13, 34]\n",
            "[0, 0, 4, 1, 2, 9, 13, 34]\n",
            "[0, 0, 1, 4, 2, 9, 13, 34]\n",
            "[0, 0, 1, 2, 4, 9, 13, 34]\n"
          ]
        }
      ]
    },
    {
      "cell_type": "code",
      "source": [
        "pip install transformers"
      ],
      "metadata": {
        "colab": {
          "base_uri": "https://localhost:8080/"
        },
        "id": "DIU67Pdl5ToY",
        "outputId": "c2fdc8d4-2204-412d-88e5-c06f87bb25c9"
      },
      "execution_count": 2,
      "outputs": [
        {
          "output_type": "stream",
          "name": "stdout",
          "text": [
            "Requirement already satisfied: transformers in /usr/local/lib/python3.10/dist-packages (4.44.2)\n",
            "Requirement already satisfied: filelock in /usr/local/lib/python3.10/dist-packages (from transformers) (3.16.1)\n",
            "Requirement already satisfied: huggingface-hub<1.0,>=0.23.2 in /usr/local/lib/python3.10/dist-packages (from transformers) (0.24.7)\n",
            "Requirement already satisfied: numpy>=1.17 in /usr/local/lib/python3.10/dist-packages (from transformers) (1.26.4)\n",
            "Requirement already satisfied: packaging>=20.0 in /usr/local/lib/python3.10/dist-packages (from transformers) (24.1)\n",
            "Requirement already satisfied: pyyaml>=5.1 in /usr/local/lib/python3.10/dist-packages (from transformers) (6.0.2)\n",
            "Requirement already satisfied: regex!=2019.12.17 in /usr/local/lib/python3.10/dist-packages (from transformers) (2024.9.11)\n",
            "Requirement already satisfied: requests in /usr/local/lib/python3.10/dist-packages (from transformers) (2.32.3)\n",
            "Requirement already satisfied: safetensors>=0.4.1 in /usr/local/lib/python3.10/dist-packages (from transformers) (0.4.5)\n",
            "Requirement already satisfied: tokenizers<0.20,>=0.19 in /usr/local/lib/python3.10/dist-packages (from transformers) (0.19.1)\n",
            "Requirement already satisfied: tqdm>=4.27 in /usr/local/lib/python3.10/dist-packages (from transformers) (4.66.5)\n",
            "Requirement already satisfied: fsspec>=2023.5.0 in /usr/local/lib/python3.10/dist-packages (from huggingface-hub<1.0,>=0.23.2->transformers) (2024.6.1)\n",
            "Requirement already satisfied: typing-extensions>=3.7.4.3 in /usr/local/lib/python3.10/dist-packages (from huggingface-hub<1.0,>=0.23.2->transformers) (4.12.2)\n",
            "Requirement already satisfied: charset-normalizer<4,>=2 in /usr/local/lib/python3.10/dist-packages (from requests->transformers) (3.3.2)\n",
            "Requirement already satisfied: idna<4,>=2.5 in /usr/local/lib/python3.10/dist-packages (from requests->transformers) (3.10)\n",
            "Requirement already satisfied: urllib3<3,>=1.21.1 in /usr/local/lib/python3.10/dist-packages (from requests->transformers) (2.2.3)\n",
            "Requirement already satisfied: certifi>=2017.4.17 in /usr/local/lib/python3.10/dist-packages (from requests->transformers) (2024.8.30)\n"
          ]
        }
      ]
    },
    {
      "cell_type": "code",
      "source": [
        "# Install necessary libraries if not already installed\n",
        "# pip install pandas numpy transformers\n",
        "\n",
        "import pandas as pd\n",
        "import numpy as np\n",
        "from transformers import pipeline\n",
        "\n",
        "# Step 1: Generate Synthetic Patient Health Records\n",
        "\n",
        "def generate_synthetic_health_records(num_records):\n",
        "    # Sample data\n",
        "    names = [\"John Doe\", \"Jane Smith\", \"Alice Johnson\", \"Bob Brown\", \"Charlie Davis\"]\n",
        "    genders = [\"Male\", \"Female\", \"Other\"]\n",
        "    heights = np.random.randint(150, 200, size=num_records)  # Height in cm\n",
        "    weights = np.random.randint(50, 120, size=num_records)   # Weight in kg\n",
        "\n",
        "    # Dictionary of conditions and their corresponding medications\n",
        "    conditions = {\n",
        "        \"Diabetes\": [\"Metformin\", \"Insulin\", \"Glyburide\", \"Acarbose\"],\n",
        "        \"Hypertension\": [\"Lisinopril\", \"Amlodipine\", \"Losartan\", \"Hydrochlorothiazide\"],\n",
        "        \"Asthma\": [\"Albuterol\", \"Salmeterol\", \"Fluticasone\", \"Montelukast\"],\n",
        "        \"Heart Disease\": [\"Aspirin\", \"Atorvastatin\", \"Beta Blockers\", \"ACE Inhibitors\"],\n",
        "        \"None\": [\"No medication\"]\n",
        "    }\n",
        "\n",
        "    allergies = [\"None\", \"Peanuts\", \"Shellfish\", \"Penicillin\", \"Aspirin\"]\n",
        "    lifestyles = [\"Smoker\", \"Non-Smoker\", \"Occasional Drinker\", \"Regular Drinker\", \"Active\", \"Sedentary\"]\n",
        "\n",
        "    records = []\n",
        "\n",
        "    for i in range(num_records):\n",
        "        name = np.random.choice(names)\n",
        "        age = np.random.randint(20, 80)\n",
        "        gender = np.random.choice(genders)\n",
        "        condition = np.random.choice(list(conditions.keys()))\n",
        "        medication = np.random.choice(conditions[condition])  # Randomly select medication for the condition\n",
        "        visit_date = pd.Timestamp.now() - pd.DateOffset(days=np.random.randint(1, 365))  # Random past date\n",
        "        blood_pressure = f\"{np.random.randint(110, 180)}/{np.random.randint(60, 120)}\"  # Random BP\n",
        "        cholesterol_level = np.random.randint(150, 300)  # Random cholesterol level\n",
        "        allergy = np.random.choice(allergies)\n",
        "        lifestyle = np.random.choice(lifestyles)\n",
        "\n",
        "        records.append({\n",
        "            \"Name\": name,\n",
        "            \"Age\": age,\n",
        "            \"Gender\": gender,\n",
        "            \"Height (cm)\": heights[i],\n",
        "            \"Weight (kg)\": weights[i],\n",
        "            \"Condition\": condition,\n",
        "            \"Medication\": medication,\n",
        "            \"Visit Date\": visit_date,\n",
        "            \"Blood Pressure\": blood_pressure,\n",
        "            \"Cholesterol Level\": cholesterol_level,\n",
        "            \"Allergies\": allergy,\n",
        "            \"Lifestyle\": lifestyle\n",
        "        })\n",
        "\n",
        "    return pd.DataFrame(records)\n",
        "\n",
        "# Create Synthetic Data\n",
        "num_records = 10000  # Number of synthetic records to generate\n",
        "synthetic_data = generate_synthetic_health_records(num_records)\n",
        "\n",
        "# Display the first few generated synthetic data records\n",
        "print(\"Synthetic Patient Health Records:\")\n",
        "print(synthetic_data.head())\n",
        "\n",
        "# Save to Excel\n",
        "output_file = \"synthetic_patient_health_records.xlsx\"\n",
        "synthetic_data.to_excel(output_file, index=False)\n",
        "\n",
        "print(f\"\\nSynthetic patient health records saved to {output_file}.\")\n",
        "\n",
        "\n",
        "\n",
        "# Step 3: Summarize the Patient Health Records using LLM\n",
        "def summarize_records(data):\n",
        "    # Load a pre-trained summarization model\n",
        "    summarizer = pipeline(\"summarization\")\n",
        "\n",
        "    # Prepare the records for summarization\n",
        "    summaries = []\n",
        "    for index, row in data.iterrows():\n",
        "        record_summary = f\"Patient {row['Name']}, Age {row['Age']}, Condition: {row['Condition']}, Medication: {row['Medication']}\"\n",
        "        summaries.append(record_summary)\n",
        "\n",
        "    # Generate a summary of the health records\n",
        "    full_summary = \"\\n\".join(summaries)\n",
        "\n",
        "    # Limit the input length if necessary\n",
        "    max_input_length = 500  # You can adjust this based on model capability\n",
        "    if len(full_summary) > max_input_length:\n",
        "        full_summary = full_summary[:max_input_length]  # Truncate if too long\n",
        "\n",
        "    summary = summarizer(full_summary, max_length=50, min_length=25, do_sample=False)\n",
        "\n",
        "    return summary[0]['summary_text']\n",
        "\n",
        "# Step 4: Generate and Print Summary\n",
        "summary = summarize_records(synthetic_data)\n",
        "print(\"\\nSummary of Patient Health Records:\")\n",
        "print(summary)\n"
      ],
      "metadata": {
        "colab": {
          "base_uri": "https://localhost:8080/"
        },
        "id": "BAia5_J65QqH",
        "outputId": "e08ac454-2302-44eb-9a09-f9a5c178d8ec"
      },
      "execution_count": 1,
      "outputs": [
        {
          "output_type": "stream",
          "name": "stdout",
          "text": [
            "Synthetic Patient Health Records:\n",
            "            Name  Age Gender  Height (cm)  Weight (kg)     Condition  \\\n",
            "0      Bob Brown   34  Other          182           82      Diabetes   \n",
            "1  Alice Johnson   65   Male          169          114  Hypertension   \n",
            "2  Charlie Davis   49  Other          177           86  Hypertension   \n",
            "3  Alice Johnson   61   Male          198           66  Hypertension   \n",
            "4  Alice Johnson   50   Male          164           51        Asthma   \n",
            "\n",
            "   Medication                 Visit Date Blood Pressure  Cholesterol Level  \\\n",
            "0   Metformin 2024-02-28 13:14:51.258974         115/87                162   \n",
            "1    Losartan 2024-08-19 13:14:51.259489         131/96                190   \n",
            "2  Lisinopril 2024-08-09 13:14:51.259714        117/116                179   \n",
            "3    Losartan 2024-08-27 13:14:51.259914        132/107                248   \n",
            "4  Salmeterol 2024-05-31 13:14:51.260132         134/69                267   \n",
            "\n",
            "   Allergies   Lifestyle  \n",
            "0    Aspirin  Non-Smoker  \n",
            "1  Shellfish  Non-Smoker  \n",
            "2    Peanuts   Sedentary  \n",
            "3  Shellfish  Non-Smoker  \n",
            "4  Shellfish   Sedentary  \n"
          ]
        },
        {
          "output_type": "stream",
          "name": "stderr",
          "text": [
            "No model was supplied, defaulted to sshleifer/distilbart-cnn-12-6 and revision a4f8f3e (https://huggingface.co/sshleifer/distilbart-cnn-12-6).\n",
            "Using a pipeline without specifying a model name and revision in production is not recommended.\n"
          ]
        },
        {
          "output_type": "stream",
          "name": "stdout",
          "text": [
            "\n",
            "Synthetic patient health records saved to synthetic_patient_health_records.xlsx.\n"
          ]
        },
        {
          "output_type": "stream",
          "name": "stderr",
          "text": [
            "/usr/local/lib/python3.10/dist-packages/huggingface_hub/utils/_token.py:89: UserWarning: \n",
            "The secret `HF_TOKEN` does not exist in your Colab secrets.\n",
            "To authenticate with the Hugging Face Hub, create a token in your settings tab (https://huggingface.co/settings/tokens), set it as secret in your Google Colab and restart your session.\n",
            "You will be able to reuse this secret in all of your notebooks.\n",
            "Please note that authentication is recommended but still optional to access public models or datasets.\n",
            "  warnings.warn(\n",
            "/usr/local/lib/python3.10/dist-packages/transformers/tokenization_utils_base.py:1601: FutureWarning: `clean_up_tokenization_spaces` was not set. It will be set to `True` by default. This behavior will be depracted in transformers v4.45, and will be then set to `False` by default. For more details check this issue: https://github.com/huggingface/transformers/issues/31884\n",
            "  warnings.warn(\n"
          ]
        },
        {
          "output_type": "stream",
          "name": "stdout",
          "text": [
            "\n",
            "Summary of Patient Health Records:\n",
            " Alice Johnson, Age 65, Condition: Hypertension, Medication: Losartan. Patients Charlie Davis, Age 49, and Bob Brown, Age 34, Conditions: Diabetes, Medications: Metformin.                Patient\n"
          ]
        }
      ]
    }
  ]
}